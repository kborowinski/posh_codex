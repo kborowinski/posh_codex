{
 "cells": [
  {
   "cell_type": "code",
   "execution_count": 2,
   "id": "f6f582a7",
   "metadata": {},
   "outputs": [],
   "source": [
    "# from dotenv import load_dotenv\n",
    "import os\n",
    "import time\n",
    "\n",
    "import requests\n",
    "import selenium\n",
    "from bs4 import BeautifulSoup\n",
    "from selenium import webdriver\n",
    "from selenium.common.exceptions import (\n",
    "    NoSuchElementException,\n",
    "    StaleElementReferenceException,\n",
    ")\n",
    "from selenium.webdriver.common.by import By\n",
    "from selenium.webdriver.common.keys import Keys\n",
    "from selenium.webdriver.firefox.service import Service\n",
    "from selenium.webdriver.support import expected_conditions as ec\n",
    "from selenium.webdriver.support.ui import WebDriverWait\n",
    "from webdriver_manager.firefox import GeckoDriverManager\n"
   ]
  },
  {
   "cell_type": "code",
   "execution_count": 4,
   "id": "d41cf477",
   "metadata": {},
   "outputs": [
    {
     "name": "stderr",
     "output_type": "stream",
     "text": [
      "\n",
      "\n",
      "====== WebDriver manager ======\n",
      "Current firefox version is 95.0\n",
      "Get LATEST geckodriver version for 95.0 firefox\n",
      "Driver [C:\\Users\\rishi\\.wdm\\drivers\\geckodriver\\win64\\v0.30.0\\geckodriver.exe] found in cache\n",
      "C:\\Users\\rishi\\AppData\\Local\\Temp/ipykernel_6620/2106776987.py:14: DeprecationWarning: find_element_by_* commands are deprecated. Please use find_element() instead\n",
      "  browser.find_element_by_xpath(\n",
      "C:\\Users\\rishi\\AppData\\Local\\Temp/ipykernel_6620/2106776987.py:22: DeprecationWarning: find_element_by_* commands are deprecated. Please use find_element() instead\n",
      "  browser.find_element_by_xpath(\"//input[@name='username']\").send_keys(\n",
      "C:\\Users\\rishi\\AppData\\Local\\Temp/ipykernel_6620/2106776987.py:27: DeprecationWarning: find_element_by_* commands are deprecated. Please use find_element() instead\n",
      "  browser.find_element_by_xpath(\"//input[@name='password']\").send_keys(password)\n",
      "C:\\Users\\rishi\\AppData\\Local\\Temp/ipykernel_6620/2106776987.py:30: DeprecationWarning: find_element_by_* commands are deprecated. Please use find_element() instead\n",
      "  browser.find_element_by_xpath(\"//button[@type='submit']\").click()\n"
     ]
    },
    {
     "name": "stdout",
     "output_type": "stream",
     "text": [
      "Wait until textbox loads\n",
      "Textbox loaded\n"
     ]
    },
    {
     "name": "stderr",
     "output_type": "stream",
     "text": [
      "C:\\Users\\rishi\\AppData\\Local\\Temp/ipykernel_6620/2106776987.py:35: DeprecationWarning: find_element_by_* commands are deprecated. Please use find_element() instead\n",
      "  textbox = browser.find_element_by_xpath(\"//*[@role='textbox']\")\n"
     ]
    }
   ],
   "source": [
    "# load_dotenv()\n",
    "\n",
    "# get the openai_email key from dotenv\n",
    "email = os.getenv(\"OPENAI_EMAIL\")\n",
    "password  = os.getenv(\"OPENAI_PASSWORD\")\n",
    "\n",
    "s = Service(GeckoDriverManager().install())\n",
    "# initialize a Firefox webdriver with the geckodriver\n",
    "browser = webdriver.Firefox(service=s)\n",
    "wait = WebDriverWait(browser, 10)\n",
    "browser.get(\"https://beta.openai.com/playground/p/4FqkeG4WQuIPfOUS6cvXQfQR\")\n",
    "\n",
    "# Click on the button that contains the text \"Log In\"\n",
    "browser.find_element_by_xpath(\n",
    "    \"/html/body/div[1]/div[1]/div/div[2]/div/p/button[1]\"\n",
    ").click()\n",
    "\n",
    "# Wait for the page to load\n",
    "browser.implicitly_wait(5)\n",
    "\n",
    "# Enter email address into username field\n",
    "browser.find_element_by_xpath(\"//input[@name='username']\").send_keys(\n",
    "    email\n",
    ")\n",
    "\n",
    "# Enter password into password field\n",
    "browser.find_element_by_xpath(\"//input[@name='password']\").send_keys(password)\n",
    "\n",
    "# Click enter\n",
    "browser.find_element_by_xpath(\"//button[@type='submit']\").click()\n",
    "\n",
    "# Wait until the text inside the element with the attribute role=\"textbox\" on the new page loads\n",
    "print(\"Wait until textbox loads\")\n",
    "wait.until(ec.text_to_be_present_in_element((By.XPATH, \"//*[@role='textbox']\"), \"Q:\"))\n",
    "textbox = browser.find_element_by_xpath(\"//*[@role='textbox']\")\n",
    "print(\"Textbox loaded\")\n"
   ]
  },
  {
   "cell_type": "code",
   "execution_count": 4,
   "id": "360dceda",
   "metadata": {},
   "outputs": [
    {
     "name": "stderr",
     "output_type": "stream",
     "text": [
      "C:\\Users\\rishi\\AppData\\Local\\Temp/ipykernel_16612/166241455.py:5: DeprecationWarning: find_element_by_* commands are deprecated. Please use find_element() instead\n",
      "  browser.find_element_by_xpath(\n"
     ]
    },
    {
     "name": "stdout",
     "output_type": "stream",
     "text": [
      "Sleeping for 3 seconds\n"
     ]
    },
    {
     "name": "stderr",
     "output_type": "stream",
     "text": [
      "C:\\Users\\rishi\\AppData\\Local\\Temp/ipykernel_16612/166241455.py:14: DeprecationWarning: find_element_by_* commands are deprecated. Please use find_element() instead\n",
      "  text = browser.find_element_by_xpath(\"//*[@role='textbox']\").text\n"
     ]
    },
    {
     "name": "stdout",
     "output_type": "stream",
     "text": [
      "['Q: Print \"hello world\" to the console.', 'A: echo \"Hello world\"', 'Q: Print all directories containing \"python\" in the current directory', 'A: ls | findstr \"python\"', 'Q: Rename each directory found in the previous example to append \"_py\" at the end', 'A: foreach ($dir in $(ls -Name | findstr \"python\")) { mv \"$dir\" $dir\"_py\" }', 'Q: Reload current powershell profile present in $PROFILE', 'A: . $PROFILE', 'Q: Run \"testing.py\" and store the output in \"output.txt\"', 'A: python testing.py > output.txt', 'Q: Move each directory containing \"python\" to the Desktop', 'A: foreach ($dir in $(ls -Directory -Name | findstr \"python\")) { mv \"$dir\" ~/Desktop }', 'A: ls -Directory -fi *python* | Move-Item -Destination ~/Desktop/', 'Q: List all ruby files in the current folder', 'A: ls -fi *.rb', \"A: ls | where Name -match '\\\\.rb$'\", \"A: gci | where Name -match '\\\\.rb$'\", 'Q: Display names of all text files in all subfolders recursively', 'A: gci -r . | where { $_.Name -like \"*.txt\" }', 'Q: Delete the file with the smallest size in the current directory', 'A: gci . | sort Length | select -First 1 | rm', 'Q: Print the most recently modified file in the directory called \"tests\"', 'A: gci tests | sort LastWriteTime | select -Last 1 | remove-item', 'Q: Delete the most recently modified ruby file in all subfolders', 'A: ls -r -fi *.rb | sort LastWriteTime | select -Last 1 | remove-item', 'A: gci -r -fi *.rb | sort LastWriteTime | select -Last 1 | remove-item', 'Q: Rename all javascript files in all subfolders by adding \"js_\" to the beginning of the filenames', 'A: ls -r -fi *.js | Rename-Item -NewName { \"js_\" + $_.Name };', 'A: gci -r -fi *.js | Rename-Item -NewName { \"js_\" + $_.Name };', 'Q: Print only the file extensions of each file in the current directory', 'A: gci -File | select Extension', 'Q: Append the filename with extension to each file in the current directory', 'A: foreach ($file in $(ls -File *.txt)) {echo $file.Extension >> $file}', \"Q: Print 'Hello World!' to the console.\", 'A: echo Hello World!', 'Q:']\n"
     ]
    }
   ],
   "source": [
    "# Select the element with the attribute role=\"textbox\"\n",
    "textbox.send_keys(\"Q: Print 'Hello World!' to the console.\")\n",
    "\n",
    "# Click on the \"Generate\" button\n",
    "browser.find_element_by_xpath(\n",
    "    \"/html/body/div[1]/div[1]/div/div[2]/div[2]/div[2]/div[1]/div[2]/div[1]/button[1]\"\n",
    ").click()\n",
    "\n",
    "# Wait for output to load\n",
    "print(\"Sleeping for 3 seconds\")\n",
    "time.sleep(3)\n",
    "\n",
    "# Get all the text from the element with the attribute role=\"textbox\"\n",
    "text = browser.find_element_by_xpath(\"//*[@role='textbox']\").text\n",
    "\n",
    "lines = text.split(\"\\n\")\n",
    "print(lines)\n"
   ]
  },
  {
   "cell_type": "code",
   "execution_count": 18,
   "id": "90ff0938",
   "metadata": {},
   "outputs": [],
   "source": [
    "def remove_line(element):\n",
    "    element.send_keys(Keys.SHIFT + Keys.HOME)\n",
    "    element.send_keys(Keys.BACKSPACE)\n",
    "    element.send_keys(Keys.BACKSPACE)\n"
   ]
  },
  {
   "cell_type": "code",
   "execution_count": 19,
   "id": "7e6d6041",
   "metadata": {},
   "outputs": [],
   "source": [
    "for i in range(2):\n",
    "    remove_line(textbox)\n"
   ]
  },
  {
   "cell_type": "code",
   "execution_count": 25,
   "id": "18354aa8",
   "metadata": {},
   "outputs": [],
   "source": [
    "def get_output_lines(input_text):\n",
    "    textbox.send_keys(f\"Q: {input_text}\")\n",
    "\n",
    "    # Click on the \"Generate\" button\n",
    "    browser.find_element_by_xpath(\n",
    "        \"/html/body/div[1]/div[1]/div/div[2]/div[2]/div[2]/div[1]/div[2]/div[1]/button[1]\"\n",
    "    ).click()\n",
    "\n",
    "    # Wait for output to load\n",
    "    print(\"Sleeping for 3 seconds\")\n",
    "    time.sleep(3)\n",
    "\n",
    "    # Get all the text from the element with the attribute role=\"textbox\"\n",
    "    text = browser.find_element_by_xpath(\"//*[@role='textbox']\").text\n",
    "\n",
    "    lines = text.split(\"\\n\")[-3:-1]\n",
    "    return lines\n"
   ]
  },
  {
   "cell_type": "code",
   "execution_count": 26,
   "id": "b1c50343",
   "metadata": {},
   "outputs": [
    {
     "name": "stderr",
     "output_type": "stream",
     "text": [
      "C:\\Users\\rishi\\AppData\\Local\\Temp/ipykernel_16612/3489276774.py:5: DeprecationWarning: find_element_by_* commands are deprecated. Please use find_element() instead\n",
      "  browser.find_element_by_xpath(\n"
     ]
    },
    {
     "name": "stdout",
     "output_type": "stream",
     "text": [
      "Sleeping for 3 seconds\n"
     ]
    },
    {
     "name": "stderr",
     "output_type": "stream",
     "text": [
      "C:\\Users\\rishi\\AppData\\Local\\Temp/ipykernel_16612/3489276774.py:14: DeprecationWarning: find_element_by_* commands are deprecated. Please use find_element() instead\n",
      "  text = browser.find_element_by_xpath(\"//*[@role='textbox']\").text\n"
     ]
    },
    {
     "name": "stdout",
     "output_type": "stream",
     "text": [
      "For input 'Delete all text files':  ['Q: Delete all text files', 'A: gci -r . | where { $_.Name -like \"*.txt\" } | remove-item']\n",
      "Sleeping for 3 seconds\n",
      "For input 'Print current working directory':  ['Q:Q: Print current working directory', 'A: pwd']\n"
     ]
    },
    {
     "ename": "ElementNotInteractableException",
     "evalue": "Message: Element <div class=\"notranslate public-DraftEditor-content\"> is not reachable by keyboard\nStacktrace:\nWebDriverError@chrome://remote/content/shared/webdriver/Errors.jsm:181:5\nElementNotInteractableError@chrome://remote/content/shared/webdriver/Errors.jsm:291:5\nwebdriverSendKeysToElement@chrome://remote/content/marionette/interaction.js:624:13\ninteraction.sendKeysToElement@chrome://remote/content/marionette/interaction.js:600:11\nsendKeysToElement@chrome://remote/content/marionette/actors/MarionetteCommandsChild.jsm:485:24\nreceiveMessage@chrome://remote/content/marionette/actors/MarionetteCommandsChild.jsm:148:31\n",
     "output_type": "error",
     "traceback": [
      "\u001b[1;31m---------------------------------------------------------------------------\u001b[0m",
      "\u001b[1;31mElementNotInteractableException\u001b[0m           Traceback (most recent call last)",
      "\u001b[1;32m~\\AppData\\Local\\Temp/ipykernel_16612/579121673.py\u001b[0m in \u001b[0;36m<module>\u001b[1;34m\u001b[0m\n\u001b[0;32m      2\u001b[0m \u001b[1;32mfor\u001b[0m \u001b[0minput_text\u001b[0m \u001b[1;32min\u001b[0m \u001b[0mlist_of_inputs\u001b[0m\u001b[1;33m:\u001b[0m\u001b[1;33m\u001b[0m\u001b[1;33m\u001b[0m\u001b[0m\n\u001b[0;32m      3\u001b[0m \u001b[1;33m\u001b[0m\u001b[0m\n\u001b[1;32m----> 4\u001b[1;33m     \u001b[0mlines\u001b[0m \u001b[1;33m=\u001b[0m \u001b[0mget_output_lines\u001b[0m\u001b[1;33m(\u001b[0m\u001b[0minput_text\u001b[0m\u001b[1;33m)\u001b[0m\u001b[1;33m\u001b[0m\u001b[1;33m\u001b[0m\u001b[0m\n\u001b[0m\u001b[0;32m      5\u001b[0m \u001b[1;33m\u001b[0m\u001b[0m\n\u001b[0;32m      6\u001b[0m     \u001b[0mprint\u001b[0m\u001b[1;33m(\u001b[0m\u001b[1;34mf\"For input '{input_text}': \"\u001b[0m\u001b[1;33m,\u001b[0m \u001b[0mlines\u001b[0m\u001b[1;33m)\u001b[0m\u001b[1;33m\u001b[0m\u001b[1;33m\u001b[0m\u001b[0m\n",
      "\u001b[1;32m~\\AppData\\Local\\Temp/ipykernel_16612/3489276774.py\u001b[0m in \u001b[0;36mget_output_lines\u001b[1;34m(input_text)\u001b[0m\n\u001b[0;32m      1\u001b[0m \u001b[1;32mdef\u001b[0m \u001b[0mget_output_lines\u001b[0m\u001b[1;33m(\u001b[0m\u001b[0minput_text\u001b[0m\u001b[1;33m)\u001b[0m\u001b[1;33m:\u001b[0m\u001b[1;33m\u001b[0m\u001b[1;33m\u001b[0m\u001b[0m\n\u001b[1;32m----> 2\u001b[1;33m     \u001b[0mtextbox\u001b[0m\u001b[1;33m.\u001b[0m\u001b[0msend_keys\u001b[0m\u001b[1;33m(\u001b[0m\u001b[1;34mf\"Q: {input_text}\"\u001b[0m\u001b[1;33m)\u001b[0m\u001b[1;33m\u001b[0m\u001b[1;33m\u001b[0m\u001b[0m\n\u001b[0m\u001b[0;32m      3\u001b[0m \u001b[1;33m\u001b[0m\u001b[0m\n\u001b[0;32m      4\u001b[0m     \u001b[1;31m# Click on the \"Generate\" button\u001b[0m\u001b[1;33m\u001b[0m\u001b[1;33m\u001b[0m\u001b[1;33m\u001b[0m\u001b[0m\n\u001b[0;32m      5\u001b[0m     browser.find_element_by_xpath(\n",
      "\u001b[1;32mD:\\Applications\\Scoop\\apps\\miniconda3\\current\\lib\\site-packages\\selenium\\webdriver\\remote\\webelement.py\u001b[0m in \u001b[0;36msend_keys\u001b[1;34m(self, *value)\u001b[0m\n\u001b[0;32m    538\u001b[0m                 \u001b[0mvalue\u001b[0m \u001b[1;33m=\u001b[0m \u001b[1;34m'\\n'\u001b[0m\u001b[1;33m.\u001b[0m\u001b[0mjoin\u001b[0m\u001b[1;33m(\u001b[0m\u001b[0mremote_files\u001b[0m\u001b[1;33m)\u001b[0m\u001b[1;33m\u001b[0m\u001b[1;33m\u001b[0m\u001b[0m\n\u001b[0;32m    539\u001b[0m \u001b[1;33m\u001b[0m\u001b[0m\n\u001b[1;32m--> 540\u001b[1;33m         self._execute(Command.SEND_KEYS_TO_ELEMENT,\n\u001b[0m\u001b[0;32m    541\u001b[0m                       {'text': \"\".join(keys_to_typing(value)),\n\u001b[0;32m    542\u001b[0m                        'value': keys_to_typing(value)})\n",
      "\u001b[1;32mD:\\Applications\\Scoop\\apps\\miniconda3\\current\\lib\\site-packages\\selenium\\webdriver\\remote\\webelement.py\u001b[0m in \u001b[0;36m_execute\u001b[1;34m(self, command, params)\u001b[0m\n\u001b[0;32m    708\u001b[0m             \u001b[0mparams\u001b[0m \u001b[1;33m=\u001b[0m \u001b[1;33m{\u001b[0m\u001b[1;33m}\u001b[0m\u001b[1;33m\u001b[0m\u001b[1;33m\u001b[0m\u001b[0m\n\u001b[0;32m    709\u001b[0m         \u001b[0mparams\u001b[0m\u001b[1;33m[\u001b[0m\u001b[1;34m'id'\u001b[0m\u001b[1;33m]\u001b[0m \u001b[1;33m=\u001b[0m \u001b[0mself\u001b[0m\u001b[1;33m.\u001b[0m\u001b[0m_id\u001b[0m\u001b[1;33m\u001b[0m\u001b[1;33m\u001b[0m\u001b[0m\n\u001b[1;32m--> 710\u001b[1;33m         \u001b[1;32mreturn\u001b[0m \u001b[0mself\u001b[0m\u001b[1;33m.\u001b[0m\u001b[0m_parent\u001b[0m\u001b[1;33m.\u001b[0m\u001b[0mexecute\u001b[0m\u001b[1;33m(\u001b[0m\u001b[0mcommand\u001b[0m\u001b[1;33m,\u001b[0m \u001b[0mparams\u001b[0m\u001b[1;33m)\u001b[0m\u001b[1;33m\u001b[0m\u001b[1;33m\u001b[0m\u001b[0m\n\u001b[0m\u001b[0;32m    711\u001b[0m \u001b[1;33m\u001b[0m\u001b[0m\n\u001b[0;32m    712\u001b[0m     \u001b[1;32mdef\u001b[0m \u001b[0mfind_element\u001b[0m\u001b[1;33m(\u001b[0m\u001b[0mself\u001b[0m\u001b[1;33m,\u001b[0m \u001b[0mby\u001b[0m\u001b[1;33m=\u001b[0m\u001b[0mBy\u001b[0m\u001b[1;33m.\u001b[0m\u001b[0mID\u001b[0m\u001b[1;33m,\u001b[0m \u001b[0mvalue\u001b[0m\u001b[1;33m=\u001b[0m\u001b[1;32mNone\u001b[0m\u001b[1;33m)\u001b[0m\u001b[1;33m:\u001b[0m\u001b[1;33m\u001b[0m\u001b[1;33m\u001b[0m\u001b[0m\n",
      "\u001b[1;32mD:\\Applications\\Scoop\\apps\\miniconda3\\current\\lib\\site-packages\\selenium\\webdriver\\remote\\webdriver.py\u001b[0m in \u001b[0;36mexecute\u001b[1;34m(self, driver_command, params)\u001b[0m\n\u001b[0;32m    422\u001b[0m         \u001b[0mresponse\u001b[0m \u001b[1;33m=\u001b[0m \u001b[0mself\u001b[0m\u001b[1;33m.\u001b[0m\u001b[0mcommand_executor\u001b[0m\u001b[1;33m.\u001b[0m\u001b[0mexecute\u001b[0m\u001b[1;33m(\u001b[0m\u001b[0mdriver_command\u001b[0m\u001b[1;33m,\u001b[0m \u001b[0mparams\u001b[0m\u001b[1;33m)\u001b[0m\u001b[1;33m\u001b[0m\u001b[1;33m\u001b[0m\u001b[0m\n\u001b[0;32m    423\u001b[0m         \u001b[1;32mif\u001b[0m \u001b[0mresponse\u001b[0m\u001b[1;33m:\u001b[0m\u001b[1;33m\u001b[0m\u001b[1;33m\u001b[0m\u001b[0m\n\u001b[1;32m--> 424\u001b[1;33m             \u001b[0mself\u001b[0m\u001b[1;33m.\u001b[0m\u001b[0merror_handler\u001b[0m\u001b[1;33m.\u001b[0m\u001b[0mcheck_response\u001b[0m\u001b[1;33m(\u001b[0m\u001b[0mresponse\u001b[0m\u001b[1;33m)\u001b[0m\u001b[1;33m\u001b[0m\u001b[1;33m\u001b[0m\u001b[0m\n\u001b[0m\u001b[0;32m    425\u001b[0m             response['value'] = self._unwrap_value(\n\u001b[0;32m    426\u001b[0m                 response.get('value', None))\n",
      "\u001b[1;32mD:\\Applications\\Scoop\\apps\\miniconda3\\current\\lib\\site-packages\\selenium\\webdriver\\remote\\errorhandler.py\u001b[0m in \u001b[0;36mcheck_response\u001b[1;34m(self, response)\u001b[0m\n\u001b[0;32m    245\u001b[0m                 \u001b[0malert_text\u001b[0m \u001b[1;33m=\u001b[0m \u001b[0mvalue\u001b[0m\u001b[1;33m[\u001b[0m\u001b[1;34m'alert'\u001b[0m\u001b[1;33m]\u001b[0m\u001b[1;33m.\u001b[0m\u001b[0mget\u001b[0m\u001b[1;33m(\u001b[0m\u001b[1;34m'text'\u001b[0m\u001b[1;33m)\u001b[0m\u001b[1;33m\u001b[0m\u001b[1;33m\u001b[0m\u001b[0m\n\u001b[0;32m    246\u001b[0m             \u001b[1;32mraise\u001b[0m \u001b[0mexception_class\u001b[0m\u001b[1;33m(\u001b[0m\u001b[0mmessage\u001b[0m\u001b[1;33m,\u001b[0m \u001b[0mscreen\u001b[0m\u001b[1;33m,\u001b[0m \u001b[0mstacktrace\u001b[0m\u001b[1;33m,\u001b[0m \u001b[0malert_text\u001b[0m\u001b[1;33m)\u001b[0m  \u001b[1;31m# type: ignore[call-arg]  # mypy is not smart enough here\u001b[0m\u001b[1;33m\u001b[0m\u001b[1;33m\u001b[0m\u001b[0m\n\u001b[1;32m--> 247\u001b[1;33m         \u001b[1;32mraise\u001b[0m \u001b[0mexception_class\u001b[0m\u001b[1;33m(\u001b[0m\u001b[0mmessage\u001b[0m\u001b[1;33m,\u001b[0m \u001b[0mscreen\u001b[0m\u001b[1;33m,\u001b[0m \u001b[0mstacktrace\u001b[0m\u001b[1;33m)\u001b[0m\u001b[1;33m\u001b[0m\u001b[1;33m\u001b[0m\u001b[0m\n\u001b[0m\u001b[0;32m    248\u001b[0m \u001b[1;33m\u001b[0m\u001b[0m\n\u001b[0;32m    249\u001b[0m     \u001b[1;32mdef\u001b[0m \u001b[0m_value_or_default\u001b[0m\u001b[1;33m(\u001b[0m\u001b[0mself\u001b[0m\u001b[1;33m,\u001b[0m \u001b[0mobj\u001b[0m\u001b[1;33m:\u001b[0m \u001b[0mMapping\u001b[0m\u001b[1;33m[\u001b[0m\u001b[0m_KT\u001b[0m\u001b[1;33m,\u001b[0m \u001b[0m_VT\u001b[0m\u001b[1;33m]\u001b[0m\u001b[1;33m,\u001b[0m \u001b[0mkey\u001b[0m\u001b[1;33m:\u001b[0m \u001b[0m_KT\u001b[0m\u001b[1;33m,\u001b[0m \u001b[0mdefault\u001b[0m\u001b[1;33m:\u001b[0m \u001b[0m_VT\u001b[0m\u001b[1;33m)\u001b[0m \u001b[1;33m->\u001b[0m \u001b[0m_VT\u001b[0m\u001b[1;33m:\u001b[0m\u001b[1;33m\u001b[0m\u001b[1;33m\u001b[0m\u001b[0m\n",
      "\u001b[1;31mElementNotInteractableException\u001b[0m: Message: Element <div class=\"notranslate public-DraftEditor-content\"> is not reachable by keyboard\nStacktrace:\nWebDriverError@chrome://remote/content/shared/webdriver/Errors.jsm:181:5\nElementNotInteractableError@chrome://remote/content/shared/webdriver/Errors.jsm:291:5\nwebdriverSendKeysToElement@chrome://remote/content/marionette/interaction.js:624:13\ninteraction.sendKeysToElement@chrome://remote/content/marionette/interaction.js:600:11\nsendKeysToElement@chrome://remote/content/marionette/actors/MarionetteCommandsChild.jsm:485:24\nreceiveMessage@chrome://remote/content/marionette/actors/MarionetteCommandsChild.jsm:148:31\n"
     ]
    }
   ],
   "source": [
    "list_of_inputs = [\n",
    "    \"Delete all text files\",\n",
    "    \"Print current working directory\",\n",
    "    \"Change directory to desktop\",\n",
    "    \"Do something cool\",\n",
    "]\n",
    "for input_text in list_of_inputs:\n",
    "\n",
    "    lines = get_output_lines(input_text)\n",
    "\n",
    "    print(f\"For input '{input_text}': \", lines)\n"
   ]
  },
  {
   "cell_type": "code",
   "execution_count": null,
   "id": "3aabf02f",
   "metadata": {},
   "outputs": [],
   "source": []
  }
 ],
 "metadata": {
  "kernelspec": {
   "display_name": "Python 3 (ipykernel)",
   "language": "python",
   "name": "python3"
  },
  "language_info": {
   "codemirror_mode": {
    "name": "ipython",
    "version": 3
   },
   "file_extension": ".py",
   "mimetype": "text/x-python",
   "name": "python",
   "nbconvert_exporter": "python",
   "pygments_lexer": "ipython3",
   "version": "3.9.5"
  }
 },
 "nbformat": 4,
 "nbformat_minor": 5
}
